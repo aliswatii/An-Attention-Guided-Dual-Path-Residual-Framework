{
 "cells": [
  {
   "cell_type": "code",
   "execution_count": null,
   "id": "786dc131-5637-4f93-85f5-d19198282e59",
   "metadata": {},
   "outputs": [],
   "source": [
    "import os\n",
    "import numpy as np\n",
    "import tensorflow as tf\n",
    "from tensorflow.keras import layers, models, optimizers\n",
    "from tensorflow.keras.preprocessing.image import ImageDataGenerator\n",
    "from sklearn.model_selection import KFold\n",
    "from sklearn.preprocessing import LabelBinarizer\n"
   ]
  },
  {
   "cell_type": "code",
   "execution_count": null,
   "id": "73991ee3-7bed-44fa-a91c-b809a957b3b8",
   "metadata": {},
   "outputs": [],
   "source": [
    "Dataset Directory Path\n",
    "# -----------------------------\n",
    "dataset_dir = \"path_to_dataset\"  # 👈 Change this to your dataset path\n",
    "# The folder should have subfolders: e.g., dataset/class1, dataset/class2, etc.\n"
   ]
  },
  {
   "cell_type": "code",
   "execution_count": null,
   "id": "c9b1dfc0-301c-4bf8-bcb1-07769c6c8156",
   "metadata": {},
   "outputs": [],
   "source": [
    "# Parameters\n",
    "# -----------------------------\n",
    "IMG_HEIGHT, IMG_WIDTH, CHANNELS = 174, 208, 3\n",
    "BATCH_SIZE = 32\n",
    "EPOCHS = 100\n",
    "NUM_FOLDS = 5\n"
   ]
  },
  {
   "cell_type": "code",
   "execution_count": null,
   "id": "a19fb4bc-c5ec-4446-bffd-e2bc07886332",
   "metadata": {},
   "outputs": [],
   "source": [
    "Data Generator\n",
    "# -----------------------------\n",
    "datagen = ImageDataGenerator(rescale=1.0/255, validation_split=0.0)\n",
    "\n",
    "all_data = []\n",
    "all_labels = []\n",
    "\n",
    "# Load dataset manually\n",
    "for class_name in os.listdir(dataset_dir):\n",
    "    class_path = os.path.join(dataset_dir, class_name)\n",
    "    if os.path.isdir(class_path):\n",
    "        for img_file in os.listdir(class_path):\n",
    "            img_path = os.path.join(class_path, img_file)\n",
    "            img = tf.keras.utils.load_img(img_path, target_size=(IMG_HEIGHT, IMG_WIDTH))\n",
    "            img_array = tf.keras.utils.img_to_array(img)\n",
    "            all_data.append(img_array)\n",
    "            all_labels.append(class_name)\n",
    "\n",
    "all_data = np.array(all_data, dtype=\"float32\") / 255.0\n",
    "all_labels = np.array(all_labels)\n",
    "\n",
    "# One-hot encoding labels\n",
    "lb = LabelBinarizer()\n",
    "all_labels = lb.fit_transform(all_labels)"
   ]
  },
  {
   "cell_type": "code",
   "execution_count": null,
   "id": "bbc3a2d3-9689-426d-8e84-63e0c5c4d8d8",
   "metadata": {},
   "outputs": [],
   "source": [
    "oft Attention Block\n",
    "# -----------------------------\n",
    "def soft_attention_block(inputs):\n",
    "    attention = layers.Conv2D(1, (1, 1), activation='sigmoid')(inputs)\n",
    "    return layers.multiply([inputs, attention])"
   ]
  },
  {
   "cell_type": "code",
   "execution_count": null,
   "id": "d78d2f44-5431-476e-9fa3-2acbd066a54e",
   "metadata": {},
   "outputs": [],
   "source": [
    "NN Model with Soft Attention\n",
    "# -----------------------------\n",
    "def create_cnn_with_attention(input_shape, num_classes):\n",
    "    inputs = layers.Input(shape=input_shape)\n",
    "\n",
    "    x = layers.Conv2D(32, (3, 3), activation=\"relu\", padding=\"same\")(inputs)\n",
    "    x = layers.MaxPooling2D((2, 2))(x)\n",
    "\n",
    "    x = layers.Conv2D(64, (3, 3), activation=\"relu\", padding=\"same\")(x)\n",
    "    x = layers.MaxPooling2D((2, 2))(x)\n",
    "\n",
    "    # Apply Soft Attention\n",
    "    x = soft_attention_block(x)\n",
    "\n",
    "    x = layers.Flatten()(x)\n",
    "    x = layers.Dense(128, activation=\"relu\")(x)\n",
    "    outputs = layers.Dense(num_classes, activation=\"softmax\")(x)\n",
    "\n",
    "    model = models.Model(inputs, outputs)\n",
    "    model.compile(optimizer=optimizers.Adam(),\n",
    "                  loss=\"categorical_crossentropy\",\n",
    "                  metrics=[\"accuracy\"])\n",
    "    return model"
   ]
  },
  {
   "cell_type": "code",
   "execution_count": null,
   "id": "7aeae30b-1303-4053-8d98-cd3a02bd68e9",
   "metadata": {},
   "outputs": [],
   "source": [
    "Custom Callback - Every 10 Epochs\n",
    "# -----------------------------\n",
    "class EveryNEpoch(tf.keras.callbacks.Callback):\n",
    "    def __init__(self, save_path, interval=10):\n",
    "        super(EveryNEpoch, self).__init__()\n",
    "        self.interval = interval\n",
    "        self.save_path = save_path\n",
    "\n",
    "    def on_epoch_end(self, epoch, logs=None):\n",
    "        if (epoch + 1) % self.interval == 0:\n",
    "            acc = logs.get('accuracy')\n",
    "            val_acc = logs.get('val_accuracy')\n",
    "            print(f\"\\n🔔 Epoch {epoch+1}: saving model | Train Acc={acc:.4f}, Val Acc={val_acc:.4f}\")\n",
    "            self.model.save(self.save_path.format(epoch=epoch+1))\n"
   ]
  },
  {
   "cell_type": "code",
   "execution_count": null,
   "id": "e0326b6f-f8fc-4b71-a677-d2ef3046ef62",
   "metadata": {},
   "outputs": [],
   "source": [
    "5-Fold Cross Validation\n",
    "# -----------------------------\n",
    "kfold = KFold(n_splits=NUM_FOLDS, shuffle=True, random_state=42)\n",
    "fold_no = 1\n",
    "\n",
    "for train_idx, val_idx in kfold.split(all_data, all_labels):\n",
    "    print(f\"\\n📂 Training fold {fold_no}/{NUM_FOLDS} ...\")\n",
    "\n",
    "    X_train, X_val = all_data[train_idx], all_data[val_idx]\n",
    "    y_train, y_val = all_labels[train_idx], all_labels[val_idx]\n",
    "\n",
    "    model = create_cnn_with_attention((IMG_HEIGHT, IMG_WIDTH, CHANNELS), num_classes=all_labels.shape[1])"
   ]
  },
  {
   "cell_type": "code",
   "execution_count": null,
   "id": "1c686ecb-3830-4e62-8d15-91370442ed24",
   "metadata": {},
   "outputs": [],
   "source": [
    "# Callback: save model every 10 epochs\n",
    "    checkpoint_path = f\"model_fold{fold_no}_epoch{{epoch}}.h5\"\n",
    "    every10 = EveryNEpoch(checkpoint_path, interval=10)\n",
    "\n",
    "    history = model.fit(\n",
    "        X_train, y_train,\n",
    "        epochs=EPOCHS,\n",
    "        batch_size=BATCH_SIZE,\n",
    "        validation_data=(X_val, y_val),\n",
    "        verbose=1,\n",
    "        callbacks=[every10]\n",
    "    )\n",
    "\n",
    "    # Evaluate fold\n",
    "    scores = model.evaluate(X_val, y_val, verbose=0)\n",
    "    print(f\"✅ Fold {fold_no} - Accuracy: {scores[1]*100:.2f}%\")\n",
    "\n",
    "    fold_no += 1"
   ]
  },
  {
   "cell_type": "code",
   "execution_count": null,
   "id": "8e659332-f13d-4f97-8980-d4a25d50f401",
   "metadata": {},
   "outputs": [],
   "source": []
  },
  {
   "cell_type": "code",
   "execution_count": null,
   "id": "30a3b76a-d7f3-41e0-ab57-95d76a1e3da6",
   "metadata": {},
   "outputs": [],
   "source": []
  },
  {
   "cell_type": "code",
   "execution_count": null,
   "id": "fd1d3190-d7a9-4684-abcf-1600cd82aa7d",
   "metadata": {},
   "outputs": [],
   "source": []
  }
 ],
 "metadata": {
  "kernelspec": {
   "display_name": "Python 3 (ipykernel)",
   "language": "python",
   "name": "python3"
  },
  "language_info": {
   "codemirror_mode": {
    "name": "ipython",
    "version": 3
   },
   "file_extension": ".py",
   "mimetype": "text/x-python",
   "name": "python",
   "nbconvert_exporter": "python",
   "pygments_lexer": "ipython3",
   "version": "3.12.7"
  }
 },
 "nbformat": 4,
 "nbformat_minor": 5
}
