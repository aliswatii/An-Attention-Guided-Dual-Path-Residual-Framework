{
 "cells": [
  {
   "cell_type": "code",
   "execution_count": 10,
   "id": "d002390d-d0e7-41de-97bc-3ed15467d68f",
   "metadata": {
    "scrolled": true
   },
   "outputs": [
    {
     "name": "stdout",
     "output_type": "stream",
     "text": [
      "Method1 vs Method2: W=0.0, p-value=0.0625 → Not significant\n",
      "Method1 vs Method3: W=0.0, p-value=0.0625 → Not significant\n",
      "Method2 vs Method3: W=0.0, p-value=0.0625 → Not significant\n"
     ]
    }
   ],
   "source": [
    "import numpy as np\n",
    "from scipy.stats import wilcoxon\n",
    "\n",
    "# Example results from 5 folds for 3 methods\n",
    "method1 = np.array([87, 86, 85, 85, 82])       # Method A\n",
    "method2 = np.array([92, 90.5, 91, 89, 89])       # Method B\n",
    "method3 = np.array([98.8, 99, 98.8, 99, 98.8])       # Method C\n",
    "\n",
    "# Bonferroni correction for 3 pairwise tests\n",
    "alpha = 0.05 / 3\n",
    "\n",
    "# Method 1 vs Method 2\n",
    "w1, p1 = wilcoxon(method1, method2)\n",
    "print(f\"Method1 vs Method2: W={w1}, p-value={p1:.4f} → {'Significant' if p1 < alpha else 'Not significant'}\")\n",
    "\n",
    "# Method 1 vs Method 3\n",
    "w2, p2 = wilcoxon(method1, method3)\n",
    "print(f\"Method1 vs Method3: W={w2}, p-value={p2:.4f} → {'Significant' if p2 < alpha else 'Not significant'}\")\n",
    "\n",
    "# Method 2 vs Method 3\n",
    "w3, p3 = wilcoxon(method2, method3)\n",
    "print(f\"Method2 vs Method3: W={w3}, p-value={p3:.4f} → {'Significant' if p3 < alpha else 'Not significant'}\")\n"
   ]
  },
  {
   "cell_type": "code",
   "execution_count": 12,
   "id": "59ba22d4-1e5e-4d8c-8cfe-36fc0f288592",
   "metadata": {},
   "outputs": [
    {
     "name": "stdout",
     "output_type": "stream",
     "text": [
      "Method 1 Mean: 85.0000\n",
      "Method 2 Mean: 90.3000\n",
      "Method 3 Mean: 98.8800\n",
      "Cohen’s d (Method1 vs Method2): -3.675\n",
      "Cohen’s d (Method1 vs Method3): -9.624\n",
      "Cohen’s d (Method2 vs Method3): -5.949\n"
     ]
    }
   ],
   "source": [
    "import numpy as np\n",
    "import scipy.stats as stats\n",
    "\n",
    "method1 = np.array([87, 86, 85, 85, 82])       # Method A\n",
    "method2 = np.array([92, 90.5, 91, 89, 89])       # Method B\n",
    "method3 = np.array([98.8, 99, 98.8, 99, 98.8])     # Method C\n",
    "\n",
    "# Compute mean performance\n",
    "print(f\"Method 1 Mean: {np.mean(method1):.4f}\")\n",
    "print(f\"Method 2 Mean: {np.mean(method2):.4f}\")\n",
    "print(f\"Method 3 Mean: {np.mean(method3):.4f}\")\n",
    "\n",
    "# Effect size (Cohen’s d between Method 1 and 2)\n",
    "d = (np.mean(method1) - np.mean(method2)) / np.sqrt((np.std(method1)**2 + np.std(method2)**2)/2)\n",
    "print(f\"Cohen’s d (Method1 vs Method2): {d:.3f}\")\n",
    "d = (np.mean(method1) - np.mean(method3)) / np.sqrt((np.std(method1)**2 + np.std(method2)**2)/2)\n",
    "print(f\"Cohen’s d (Method1 vs Method3): {d:.3f}\")\n",
    "d = (np.mean(method2) - np.mean(method3)) / np.sqrt((np.std(method1)**2 + np.std(method2)**2)/2)\n",
    "print(f\"Cohen’s d (Method2 vs Method3): {d:.3f}\")"
   ]
  },
  {
   "cell_type": "code",
   "execution_count": 13,
   "id": "4450cf4f-fec4-4df9-962c-7641b16f068f",
   "metadata": {},
   "outputs": [
    {
     "name": "stdout",
     "output_type": "stream",
     "text": [
      "Friedman Test Statistic = 10.0000\n",
      "Friedman Test p-value   = 0.0067\n",
      "Result: Significant difference among methods (p < 0.05).\n"
     ]
    }
   ],
   "source": [
    "import numpy as np\n",
    "from scipy.stats import friedmanchisquare\n",
    "\n",
    "# Example results from 5 folds (replace with your own values)\n",
    "method1 = np.array([87, 86, 85, 85, 82])       # Method A\n",
    "method2 = np.array([92, 90.5, 91, 89, 89])       # Method B\n",
    "method3 = np.array([98.8, 99, 98.8, 99, 98.8])   # Dual-Path ResNet-50 with Soft Attention\n",
    "\n",
    "# Friedman test\n",
    "stat, p = friedmanchisquare(method1, method2, method3)\n",
    "\n",
    "print(f\"Friedman Test Statistic = {stat:.4f}\")\n",
    "print(f\"Friedman Test p-value   = {p:.4f}\")\n",
    "\n",
    "if p < 0.05:\n",
    "    print(\"Result: Significant difference among methods (p < 0.05).\")\n",
    "else:\n",
    "    print(\"Result: No significant difference among methods (p >= 0.05).\")\n"
   ]
  },
  {
   "cell_type": "code",
   "execution_count": null,
   "id": "696bd3b6-e24e-4f75-b8a2-158f53ee8a93",
   "metadata": {},
   "outputs": [],
   "source": []
  }
 ],
 "metadata": {
  "kernelspec": {
   "display_name": "Python 3 (ipykernel)",
   "language": "python",
   "name": "python3"
  },
  "language_info": {
   "codemirror_mode": {
    "name": "ipython",
    "version": 3
   },
   "file_extension": ".py",
   "mimetype": "text/x-python",
   "name": "python",
   "nbconvert_exporter": "python",
   "pygments_lexer": "ipython3",
   "version": "3.12.7"
  }
 },
 "nbformat": 4,
 "nbformat_minor": 5
}
