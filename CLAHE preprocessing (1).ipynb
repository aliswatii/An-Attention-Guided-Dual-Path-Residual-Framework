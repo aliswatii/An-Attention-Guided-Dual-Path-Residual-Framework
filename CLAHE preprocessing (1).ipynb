{
 "cells": [
  {
   "cell_type": "code",
   "execution_count": null,
   "id": "2435a873-d520-44d4-9c33-561b6e767ad0",
   "metadata": {},
   "outputs": [],
   "source": [
    "import cv2\n",
    "import os\n",
    "from glob import glob\n",
    "\n",
    "# ==== SETTINGS ====\n",
    "input_folder = \"dataset/original\"   # folder with your original images\n",
    "output_folder = \"dataset/clahe\"     # folder to save CLAHE processed images\n",
    "clip_limit = 2.0                    # CLAHE clip limit\n",
    "tile_grid_size = (8, 8)              # CLAHE tile grid size\n",
    "\n",
    "# Create output directory if it doesn't exist\n",
    "os.makedirs(output_folder, exist_ok=True)\n",
    "\n",
    "# Get all image files (jpg, png, etc.)\n",
    "image_paths = glob(os.path.join(input_folder, \"*.*\"))\n",
    "\n",
    "# Initialize CLAHE\n",
    "clahe = cv2.createCLAHE(clipLimit=clip_limit, tileGridSize=tile_grid_size)\n",
    "\n",
    "for img_path in image_paths:\n",
    "    # Read image\n",
    "    img = cv2.imread(img_path)\n",
    "\n",
    "    if img is None:\n",
    "        print(f\"Could not read {img_path}, skipping...\")\n",
    "        continue\n",
    "\n",
    "    # Convert to LAB color space\n",
    "    lab = cv2.cvtColor(img, cv2.COLOR_BGR2LAB)\n",
    "\n",
    "    # Split into channels\n",
    "    l, a, b = cv2.split(lab)\n",
    "\n",
    "    # Apply CLAHE to L-channel only\n",
    "    l_clahe = clahe.apply(l)\n",
    "\n",
    "    # Merge channels back\n",
    "    lab_clahe = cv2.merge((l_clahe, a, b))\n",
    "\n",
    "    # Convert back to BGR\n",
    "    img_clahe = cv2.cvtColor(lab_clahe, cv2.COLOR_LAB2BGR)\n",
    "\n",
    "    # Save processed image\n",
    "    file_name = os.path.basename(img_path)\n",
    "    save_path = os.path.join(output_folder, file_name)\n",
    "    cv2.imwrite(save_path, img_clahe)\n",
    "\n",
    "    print(f\"Processed: {file_name}\")\n",
    "\n",
    "print(\" CLAHE preprocessing completed!\")\n"
   ]
  }
 ],
 "metadata": {
  "kernelspec": {
   "display_name": "Python 3 (ipykernel)",
   "language": "python",
   "name": "python3"
  },
  "language_info": {
   "codemirror_mode": {
    "name": "ipython",
    "version": 3
   },
   "file_extension": ".py",
   "mimetype": "text/x-python",
   "name": "python",
   "nbconvert_exporter": "python",
   "pygments_lexer": "ipython3",
   "version": "3.12.7"
  }
 },
 "nbformat": 4,
 "nbformat_minor": 5
}
